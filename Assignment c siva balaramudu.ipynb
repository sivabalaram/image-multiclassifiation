{
 "cells": [
  {
   "cell_type": "markdown",
   "id": "6902da4a",
   "metadata": {},
   "source": [
    "## Import Libraries"
   ]
  },
  {
   "cell_type": "code",
   "execution_count": 1,
   "id": "89e781b6",
   "metadata": {},
   "outputs": [],
   "source": [
    "from tensorflow.keras.applications.inception_v3 import InceptionV3\n",
    "from tensorflow.keras import Sequential, Model\n",
    "from tensorflow.keras.activations import softmax\n",
    "from tensorflow.keras.layers import Dense\n",
    "from tensorflow.keras.optimizers import Adam\n",
    "from keras.preprocessing.image import ImageDataGenerator\n",
    "from tensorflow.keras.regularizers import l2\n",
    "import tensorflow as tf\n",
    "import numpy as np\n",
    "#please import any required libraries"
   ]
  },
  {
   "cell_type": "code",
   "execution_count": 2,
   "id": "6877ab10",
   "metadata": {},
   "outputs": [],
   "source": [
    "# data is in \"data\" folder, contains 9 classes. Please build an image classification model to classify images."
   ]
  },
  {
   "cell_type": "markdown",
   "id": "a60314f7",
   "metadata": {},
   "source": [
    "## Read and Analyse the Data"
   ]
  },
  {
   "cell_type": "code",
   "execution_count": 3,
   "id": "98f56e5e",
   "metadata": {},
   "outputs": [],
   "source": [
    "#please analyse the data and figure if data requires any pre-processing or augmentation."
   ]
  },
  {
   "cell_type": "code",
   "execution_count": 4,
   "id": "5b480ab0",
   "metadata": {},
   "outputs": [],
   "source": [
    "base_dir=r\"C:\\Users\\91924\\Desktop\\machine_learning_practice\\NUNC systems assignment\\Sr.DS_Assgn\\Sr.DS Assgn\\data\""
   ]
  },
  {
   "cell_type": "markdown",
   "id": "03cd57ae",
   "metadata": {},
   "source": [
    "## Splitting Data"
   ]
  },
  {
   "cell_type": "code",
   "execution_count": 5,
   "id": "71e47cc8",
   "metadata": {},
   "outputs": [],
   "source": [
    "## Split data 80% training, 10% Validation, 10% testing"
   ]
  },
  {
   "cell_type": "code",
   "execution_count": 6,
   "id": "d946301d",
   "metadata": {},
   "outputs": [],
   "source": [
    "IMAGE_SIZE=224\n",
    "BATCH_SIZE=64\n",
    "\n",
    "#pre=processing\n",
    "train_datagen=tf.keras.preprocessing.image.ImageDataGenerator(\n",
    "    rescale=1./255,\n",
    "    shear_range=0.2,\n",
    "    zoom_range=0.2,\n",
    "    horizontal_flip=True,\n",
    "    validation_split=0.1\n",
    "    )\n",
    "\n",
    "test_datagen=tf.keras.preprocessing.image.ImageDataGenerator(\n",
    "     rescale=1./255,\n",
    "     validation_split=0.1\n",
    ")\n"
   ]
  },
  {
   "cell_type": "markdown",
   "id": "638896eb",
   "metadata": {},
   "source": [
    "## Define Generator"
   ]
  },
  {
   "cell_type": "code",
   "execution_count": 7,
   "id": "c4583169",
   "metadata": {},
   "outputs": [
    {
     "name": "stdout",
     "output_type": "stream",
     "text": [
      "Found 4050 images belonging to 9 classes.\n",
      "Found 450 images belonging to 9 classes.\n"
     ]
    }
   ],
   "source": [
    "train_datagen=train_datagen.flow_from_directory(\n",
    "    base_dir,\n",
    "    target_size=(IMAGE_SIZE,IMAGE_SIZE),\n",
    "    batch_size=BATCH_SIZE,\n",
    "    subset='training'\n",
    ")\n",
    "\n",
    "test_datagen=test_datagen.flow_from_directory(\n",
    "    base_dir,\n",
    "    target_size=(IMAGE_SIZE,IMAGE_SIZE),\n",
    "    batch_size=BATCH_SIZE,\n",
    "    subset='validation'\n",
    ")"
   ]
  },
  {
   "cell_type": "markdown",
   "id": "c91d3426",
   "metadata": {},
   "source": [
    "## Define Model"
   ]
  },
  {
   "cell_type": "code",
   "execution_count": 8,
   "id": "94b5dbc7",
   "metadata": {},
   "outputs": [],
   "source": [
    "# add Fully connected last layers( as many as you like to improve the performance), \n",
    "#try-out drop-out in Fully connected layers if you think it is necessary\n",
    "#  Building the CNN\n",
    "# Initialising the CNN\n",
    "cnn=tf.keras.Sequential()\n",
    "\n",
    "# Step 1 - Convolution\n",
    "cnn.add(tf.keras.layers.Conv2D(filters=64,padding='same',strides=2,kernel_size=3,activation='relu',input_shape=(224,224,3)))\n",
    "\n",
    "# Step 2 - Pooling\n",
    "cnn.add(tf.keras.layers.MaxPool2D(pool_size=2,strides=2))\n",
    "\n",
    "# Adding a second convolutional layer\n",
    "cnn.add(tf.keras.layers.Conv2D(filters=32,padding='same',strides=2,kernel_size=3,activation='relu'))\n",
    "cnn.add(tf.keras.layers.MaxPool2D(pool_size=2,strides=2))\n",
    "\n",
    "# Adding a third convolutional layer\n",
    "cnn.add(tf.keras.layers.Conv2D(filters=32,padding='same',strides=2,kernel_size=3,activation='relu'))\n",
    "cnn.add(tf.keras.layers.MaxPool2D(pool_size=2))\n",
    "\n",
    "# Step 3 - Flattening\n",
    "cnn.add(tf.keras.layers.Flatten())\n",
    "\n",
    "# Step 4 - Full Connection,Output Layer\n",
    "cnn.add(tf.keras.layers.Dense(9,activation='softmax'))"
   ]
  },
  {
   "cell_type": "markdown",
   "id": "37c16986",
   "metadata": {},
   "source": [
    "## Compiling Model"
   ]
  },
  {
   "cell_type": "code",
   "execution_count": 9,
   "id": "c0d77674",
   "metadata": {},
   "outputs": [],
   "source": [
    "cnn.compile(optimizer=tf.keras.optimizers.Adam(),loss='categorical_crossentropy',metrics=['accuracy'])"
   ]
  },
  {
   "cell_type": "markdown",
   "id": "36bf09aa",
   "metadata": {},
   "source": [
    "## Training"
   ]
  },
  {
   "cell_type": "code",
   "execution_count": 10,
   "id": "1688ceeb",
   "metadata": {},
   "outputs": [
    {
     "name": "stdout",
     "output_type": "stream",
     "text": [
      "Epoch 1/25\n",
      "64/64 [==============================] - 111s 2s/step - loss: 2.1452 - accuracy: 0.1615 - val_loss: 1.9798 - val_accuracy: 0.2467\n",
      "Epoch 2/25\n",
      "64/64 [==============================] - 116s 2s/step - loss: 1.6879 - accuracy: 0.3632 - val_loss: 1.5183 - val_accuracy: 0.4378\n",
      "Epoch 3/25\n",
      "64/64 [==============================] - 119s 2s/step - loss: 1.3319 - accuracy: 0.5020 - val_loss: 1.3171 - val_accuracy: 0.4778\n",
      "Epoch 4/25\n",
      "64/64 [==============================] - 115s 2s/step - loss: 1.1306 - accuracy: 0.5736 - val_loss: 1.3051 - val_accuracy: 0.5133\n",
      "Epoch 5/25\n",
      "64/64 [==============================] - 116s 2s/step - loss: 0.9766 - accuracy: 0.6215 - val_loss: 1.0046 - val_accuracy: 0.6156\n",
      "Epoch 6/25\n",
      "64/64 [==============================] - 116s 2s/step - loss: 0.8935 - accuracy: 0.6489 - val_loss: 0.9880 - val_accuracy: 0.5889\n",
      "Epoch 7/25\n",
      "64/64 [==============================] - 116s 2s/step - loss: 0.8173 - accuracy: 0.6753 - val_loss: 0.9290 - val_accuracy: 0.6089\n",
      "Epoch 8/25\n",
      "64/64 [==============================] - 116s 2s/step - loss: 0.7524 - accuracy: 0.6946 - val_loss: 0.8388 - val_accuracy: 0.6400\n",
      "Epoch 9/25\n",
      "64/64 [==============================] - 116s 2s/step - loss: 0.7045 - accuracy: 0.7138 - val_loss: 0.8785 - val_accuracy: 0.6133\n",
      "Epoch 10/25\n",
      "64/64 [==============================] - 117s 2s/step - loss: 0.6920 - accuracy: 0.7096 - val_loss: 0.8652 - val_accuracy: 0.6378\n",
      "Epoch 11/25\n",
      "64/64 [==============================] - 117s 2s/step - loss: 0.6812 - accuracy: 0.7244 - val_loss: 0.7656 - val_accuracy: 0.6578\n",
      "Epoch 12/25\n",
      "64/64 [==============================] - 116s 2s/step - loss: 0.6519 - accuracy: 0.7323 - val_loss: 0.7558 - val_accuracy: 0.6711\n",
      "Epoch 13/25\n",
      "64/64 [==============================] - 118s 2s/step - loss: 0.6179 - accuracy: 0.7405 - val_loss: 0.8632 - val_accuracy: 0.6400\n",
      "Epoch 14/25\n",
      "64/64 [==============================] - 117s 2s/step - loss: 0.6369 - accuracy: 0.7232 - val_loss: 0.7314 - val_accuracy: 0.6689\n",
      "Epoch 15/25\n",
      "64/64 [==============================] - 118s 2s/step - loss: 0.6006 - accuracy: 0.7341 - val_loss: 0.7704 - val_accuracy: 0.6800\n",
      "Epoch 16/25\n",
      "64/64 [==============================] - 118s 2s/step - loss: 0.5893 - accuracy: 0.7479 - val_loss: 0.6862 - val_accuracy: 0.6778\n",
      "Epoch 17/25\n",
      "64/64 [==============================] - 117s 2s/step - loss: 0.5744 - accuracy: 0.7553 - val_loss: 0.6023 - val_accuracy: 0.7356\n",
      "Epoch 18/25\n",
      "64/64 [==============================] - 117s 2s/step - loss: 0.5566 - accuracy: 0.7588 - val_loss: 0.7426 - val_accuracy: 0.6733\n",
      "Epoch 19/25\n",
      "64/64 [==============================] - 117s 2s/step - loss: 0.5619 - accuracy: 0.7565 - val_loss: 0.6052 - val_accuracy: 0.7089\n",
      "Epoch 20/25\n",
      "64/64 [==============================] - 119s 2s/step - loss: 0.5301 - accuracy: 0.7733 - val_loss: 0.6495 - val_accuracy: 0.7044\n",
      "Epoch 21/25\n",
      "64/64 [==============================] - 118s 2s/step - loss: 0.5380 - accuracy: 0.7719 - val_loss: 0.6974 - val_accuracy: 0.6689\n",
      "Epoch 22/25\n",
      "64/64 [==============================] - 117s 2s/step - loss: 0.5420 - accuracy: 0.7748 - val_loss: 0.6478 - val_accuracy: 0.7067\n",
      "Epoch 23/25\n",
      "64/64 [==============================] - 122s 2s/step - loss: 0.5360 - accuracy: 0.7642 - val_loss: 0.6058 - val_accuracy: 0.7156\n",
      "Epoch 24/25\n",
      "64/64 [==============================] - 130s 2s/step - loss: 0.5106 - accuracy: 0.7815 - val_loss: 0.5820 - val_accuracy: 0.7244\n",
      "Epoch 25/25\n",
      "64/64 [==============================] - 136s 2s/step - loss: 0.5003 - accuracy: 0.7820 - val_loss: 0.6509 - val_accuracy: 0.6867\n"
     ]
    }
   ],
   "source": [
    "r=cnn.fit(train_datagen,epochs=25,validation_data=test_datagen)"
   ]
  },
  {
   "cell_type": "markdown",
   "id": "9e345369",
   "metadata": {},
   "source": [
    "## Testing"
   ]
  },
  {
   "cell_type": "code",
   "execution_count": 18,
   "id": "7c10bd9d",
   "metadata": {},
   "outputs": [],
   "source": [
    "##add Code Here to preprocess image before testing\n",
    "# Pick the best model weights for testing and test it on few images\n",
    "# saving it as a h5 file\n",
    "\n",
    "\n",
    "from tensorflow.keras.models import load_model\n",
    "\n",
    "cnn.save('model_car.h5')"
   ]
  },
  {
   "cell_type": "code",
   "execution_count": 19,
   "id": "f36c1039",
   "metadata": {},
   "outputs": [],
   "source": [
    "from tensorflow.keras.models import load_model\n",
    " \n",
    "# load model\n",
    "model = load_model('model_car.h5')"
   ]
  },
  {
   "cell_type": "code",
   "execution_count": 20,
   "id": "14076354",
   "metadata": {},
   "outputs": [
    {
     "name": "stdout",
     "output_type": "stream",
     "text": [
      "Model: \"sequential\"\n",
      "_________________________________________________________________\n",
      " Layer (type)                Output Shape              Param #   \n",
      "=================================================================\n",
      " conv2d (Conv2D)             (None, 112, 112, 64)      1792      \n",
      "                                                                 \n",
      " max_pooling2d (MaxPooling2D  (None, 56, 56, 64)       0         \n",
      " )                                                               \n",
      "                                                                 \n",
      " conv2d_1 (Conv2D)           (None, 28, 28, 32)        18464     \n",
      "                                                                 \n",
      " max_pooling2d_1 (MaxPooling  (None, 14, 14, 32)       0         \n",
      " 2D)                                                             \n",
      "                                                                 \n",
      " conv2d_2 (Conv2D)           (None, 7, 7, 32)          9248      \n",
      "                                                                 \n",
      " max_pooling2d_2 (MaxPooling  (None, 3, 3, 32)         0         \n",
      " 2D)                                                             \n",
      "                                                                 \n",
      " flatten (Flatten)           (None, 288)               0         \n",
      "                                                                 \n",
      " dense (Dense)               (None, 9)                 2601      \n",
      "                                                                 \n",
      "=================================================================\n",
      "Total params: 32,105\n",
      "Trainable params: 32,105\n",
      "Non-trainable params: 0\n",
      "_________________________________________________________________\n"
     ]
    }
   ],
   "source": [
    "model.summary()"
   ]
  },
  {
   "cell_type": "code",
   "execution_count": 21,
   "id": "a397e901",
   "metadata": {},
   "outputs": [
    {
     "data": {
      "image/png": "[encoded data removed]",
      "text/plain": [
       "<Figure size 432x288 with 1 Axes>"
      ]
     },
     "metadata": {
      "needs_background": "light"
     },
     "output_type": "display_data"
    },
    {
     "data": {
      "image/png": "[encoded data removed]",
      "text/plain": [
       "<Figure size 432x288 with 1 Axes>"
      ]
     },
     "metadata": {
      "needs_background": "light"
     },
     "output_type": "display_data"
    },
    {
     "data": {
      "text/plain": [
       "<Figure size 432x288 with 0 Axes>"
      ]
     },
     "metadata": {},
     "output_type": "display_data"
    }
   ],
   "source": [
    "# plot the loss\n",
    "import matplotlib.pyplot as plt\n",
    "plt.plot(r.history['loss'], label='train loss')\n",
    "plt.plot(r.history['val_loss'], label='val loss')\n",
    "plt.legend()\n",
    "plt.show()\n",
    "plt.savefig('LossVal_loss')\n",
    "\n",
    "# plot the accuracy\n",
    "plt.plot(r.history['accuracy'], label='train acc')\n",
    "plt.plot(r.history['val_accuracy'], label='val acc')\n",
    "plt.legend()\n",
    "plt.show()\n",
    "plt.savefig('AccVal_acc')"
   ]
  },
  {
   "cell_type": "markdown",
   "id": "afff53ff",
   "metadata": {},
   "source": [
    "## Improving Model"
   ]
  },
  {
   "cell_type": "markdown",
   "id": "9f3e87d0",
   "metadata": {},
   "source": [
    "#Please add your thoughts on way to improve the model.\n",
    "1.we can add drop out layer\n",
    "2.we can add more hidder layers,epchos,iterations\n",
    "3.we can change image size\n",
    "4.we can use transfer learning\n",
    "5.we can increase data\n"
   ]
  },
  {
   "cell_type": "code",
   "execution_count": null,
   "id": "0674f432",
   "metadata": {},
   "outputs": [],
   "source": []
  }
 ],
 "metadata": {
  "kernelspec": {
   "display_name": "Python 3 (ipykernel)",
   "language": "python",
   "name": "python3"
  },
  "language_info": {
   "codemirror_mode": {
    "name": "ipython",
    "version": 3
   },
   "file_extension": ".py",
   "mimetype": "text/x-python",
   "name": "python",
   "nbconvert_exporter": "python",
   "pygments_lexer": "ipython3",
   "version": "3.9.7"
  }
 },
 "nbformat": 4,
 "nbformat_minor": 5
}
